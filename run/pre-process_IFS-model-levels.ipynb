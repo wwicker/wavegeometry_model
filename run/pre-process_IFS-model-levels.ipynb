{
 "cells": [
  {
   "cell_type": "markdown",
   "id": "efficient-canvas",
   "metadata": {},
   "source": [
    "# Wavegeometry model pre-process\n",
    "\n",
    "Prepare the basic state in a zonally averaged atmosphere as input for the wavegeometry model by Nili Harnik and collegues."
   ]
  },
  {
   "cell_type": "code",
   "execution_count": 1,
   "id": "initial-cycle",
   "metadata": {},
   "outputs": [],
   "source": [
    "import xarray as xr\n",
    "import numpy as np\n",
    "import matplotlib.pyplot as plt\n",
    "import pandas as pd\n",
    "import os\n",
    "import dask\n",
    "from dask.distributed import Client"
   ]
  },
  {
   "cell_type": "code",
   "execution_count": 2,
   "id": "african-queensland",
   "metadata": {},
   "outputs": [
    {
     "name": "stdout",
     "output_type": "stream",
     "text": [
      "/home/wwicker\n",
      "/s2s/wwicker/wavegeometry_model/src\n"
     ]
    }
   ],
   "source": [
    "%cd\n",
    "from post_process_IFS_model_output import procedure1\n",
    "%cd /s2s/wwicker/wavegeometry_model/src\n",
    "from basicstate import Grid, _filter, buoancy_frequency, pv_gradient\n",
    "from anywave import rayd"
   ]
  },
  {
   "cell_type": "code",
   "execution_count": 3,
   "id": "blank-emission",
   "metadata": {},
   "outputs": [],
   "source": [
    "# Input directories and filenames\n",
    "udir = '/s2s/wwicker/data/20180208_91L/model_levels/u/'\n",
    "tdir = '/s2s/wwicker/data/20180208_91L/model_levels/t/'\n",
    "lnspdir = '/s2s/wwicker/data/20180208_91L/model_levels/lnsp/'\n",
    "\n",
    "level_definition = '/s2s/wwicker/wavegeometry_model/input/AandB_91L.txt'\n",
    "\n",
    "namelist = '/s2s/wwicker/wavegeometry_model/input/nml-IFS-model-level'\n",
    "\n",
    "outfile = '/s2s/wwicker/wavegeometry_model/input/IFS-model-level-91L.nc'"
   ]
  },
  {
   "cell_type": "code",
   "execution_count": null,
   "id": "varied-fitness",
   "metadata": {},
   "outputs": [],
   "source": []
  },
  {
   "cell_type": "markdown",
   "id": "under-knight",
   "metadata": {},
   "source": [
    "### Pre-process"
   ]
  },
  {
   "cell_type": "code",
   "execution_count": 4,
   "id": "golden-purchase",
   "metadata": {},
   "outputs": [
    {
     "name": "stdout",
     "output_type": "stream",
     "text": [
      "/s2s_nobackup/wwicker\n"
     ]
    },
    {
     "data": {
      "text/html": [
       "<table style=\"border: 2px solid white;\">\n",
       "<tr>\n",
       "<td style=\"vertical-align: top; border: 0px solid white\">\n",
       "<h3 style=\"text-align: left;\">Client</h3>\n",
       "<ul style=\"text-align: left; list-style: none; margin: 0; padding: 0;\">\n",
       "  <li><b>Scheduler: </b>tcp://127.0.0.1:38067</li>\n",
       "  <li><b>Dashboard: </b><a href='/user/wwicker/proxy/8787/status' target='_blank'>/user/wwicker/proxy/8787/status</a></li>\n",
       "</ul>\n",
       "</td>\n",
       "<td style=\"vertical-align: top; border: 0px solid white\">\n",
       "<h3 style=\"text-align: left;\">Cluster</h3>\n",
       "<ul style=\"text-align: left; list-style:none; margin: 0; padding: 0;\">\n",
       "  <li><b>Workers: </b>8</li>\n",
       "  <li><b>Cores: </b>32</li>\n",
       "  <li><b>Memory: </b>119.21 GiB</li>\n",
       "</ul>\n",
       "</td>\n",
       "</tr>\n",
       "</table>"
      ],
      "text/plain": [
       "<Client: 'tcp://127.0.0.1:38067' processes=8 threads=32, memory=119.21 GiB>"
      ]
     },
     "execution_count": 4,
     "metadata": {},
     "output_type": "execute_result"
    }
   ],
   "source": [
    "%cd /s2s_nobackup/wwicker\n",
    "client = Client(n_workers=8,threads_per_worker=4,memory_limit='16G')\n",
    "client"
   ]
  },
  {
   "cell_type": "code",
   "execution_count": 5,
   "id": "welcome-woman",
   "metadata": {},
   "outputs": [
    {
     "name": "stdout",
     "output_type": "stream",
     "text": [
      "\n",
      " OPEN DATASET:\n",
      "['u_0.grb']\n",
      "\n",
      " OPEN DATASET:\n",
      "['lnsp_0.grb']\n",
      "\n",
      " OPEN DATASET:\n",
      "['t_0.grb']\n",
      "\n",
      " OPEN DATASET:\n",
      "['lnsp_0.grb']\n"
     ]
    }
   ],
   "source": [
    "# Derive zonal mean from netcdf files\n",
    "# interpolated to model grid\n",
    "with dask.config.set(**{'array.slicing.split_large_chunks': False}):\n",
    "    uobs = procedure1(udir,lnspdir,level_definition,dz=200).mean('number')\n",
    "    tobs = procedure1(tdir,lnspdir,level_definition,dz=200).mean('number')"
   ]
  },
  {
   "cell_type": "code",
   "execution_count": 6,
   "id": "designing-conversion",
   "metadata": {},
   "outputs": [],
   "source": [
    "client.close()"
   ]
  },
  {
   "cell_type": "code",
   "execution_count": 7,
   "id": "active-suite",
   "metadata": {},
   "outputs": [],
   "source": [
    "# read the namelist and define model grid\n",
    "grid = Grid(namelist)"
   ]
  },
  {
   "cell_type": "code",
   "execution_count": 8,
   "id": "collected-pathology",
   "metadata": {},
   "outputs": [
    {
     "data": {
      "text/plain": [
       "Text(0.5, 1.0, 'Sponge_layer')"
      ]
     },
     "execution_count": 8,
     "metadata": {},
     "output_type": "execute_result"
    },
    {
     "data": {
      "image/png": "[encoded data removed]",
      "text/plain": [
       "<Figure size 432x288 with 2 Axes>"
      ]
     },
     "metadata": {
      "needs_background": "light"
     },
     "output_type": "display_data"
    }
   ],
   "source": [
    "sponge = rayd(grid)\n",
    "\n",
    "ax = plt.axes()\n",
    "C = ax.contourf(grid.y,grid.z,sponge)\n",
    "ax.set_ylabel('Log-pressure z')\n",
    "ax.set_xlabel('Latitude [rad]')\n",
    "plt.colorbar(C)\n",
    "ax.set_title('Sponge_layer',weight='bold')"
   ]
  },
  {
   "cell_type": "code",
   "execution_count": 9,
   "id": "worthy-liability",
   "metadata": {},
   "outputs": [],
   "source": [
    "u = uobs.values\n",
    "t = tobs.values"
   ]
  },
  {
   "cell_type": "code",
   "execution_count": null,
   "id": "spanish-logic",
   "metadata": {},
   "outputs": [],
   "source": []
  },
  {
   "cell_type": "code",
   "execution_count": null,
   "id": "banned-assault",
   "metadata": {},
   "outputs": [],
   "source": []
  },
  {
   "cell_type": "code",
   "execution_count": null,
   "id": "absolute-agent",
   "metadata": {},
   "outputs": [],
   "source": [
    "for i in range(10):\n",
    "    u = _filter(u,-1)\n",
    "    u = _filter(u,-2)"
   ]
  },
  {
   "cell_type": "code",
   "execution_count": null,
   "id": "junior-breast",
   "metadata": {},
   "outputs": [],
   "source": []
  },
  {
   "cell_type": "raw",
   "id": "round-rebel",
   "metadata": {},
   "source": [
    "# interpolate u & t from pressure to z-coordinates with constant grid spacing\n",
    "# this involves smoothin$g by convolution with \n",
    "u = interp2z(grid,uobs,pressure,nfilter=2)\n",
    "t = interp2z(grid,tobs,pressure,nfilter=10)"
   ]
  },
  {
   "cell_type": "code",
   "execution_count": 10,
   "id": "documented-buddy",
   "metadata": {},
   "outputs": [],
   "source": [
    "# calculate squared buoancy frequency and pv gradient from in-situ temperature and zonal wind\n",
    "N2 = buoancy_frequency(grid,t)\n",
    "qy = pv_gradient(grid,u,N2)"
   ]
  },
  {
   "cell_type": "code",
   "execution_count": 11,
   "id": "organized-desire",
   "metadata": {},
   "outputs": [],
   "source": [
    "for i in range(10):\n",
    "    qy = _filter(qy,-2)"
   ]
  },
  {
   "cell_type": "code",
   "execution_count": null,
   "id": "foster-henry",
   "metadata": {},
   "outputs": [],
   "source": []
  },
  {
   "cell_type": "code",
   "execution_count": null,
   "id": "dominican-jurisdiction",
   "metadata": {},
   "outputs": [],
   "source": []
  },
  {
   "cell_type": "code",
   "execution_count": null,
   "id": "plain-restriction",
   "metadata": {},
   "outputs": [],
   "source": []
  },
  {
   "cell_type": "raw",
   "id": "lovely-preservation",
   "metadata": {},
   "source": [
    "# Fill NaNs in u, N2, and qy\n",
    "def forward_fill(arr):\n",
    "    '''\n",
    "        found on stackoverflow\n",
    "    '''\n",
    "    df = pd.DataFrame(arr)\n",
    "    df.fillna(method='ffill', axis=0, inplace=True)\n",
    "    out = df.to_numpy()\n",
    "    return out\n",
    "\n",
    "for step in grid.t:\n",
    "    u[step,:,:] = forward_fill(u[step,:,:])\n",
    "    N2[step,:,:] = forward_fill(N2[step,:,:])\n",
    "    qy[step,:,:] = forward_fill(qy[step,:,:])"
   ]
  },
  {
   "cell_type": "markdown",
   "id": "seven-train",
   "metadata": {},
   "source": [
    "### Plot basic state\n",
    "\n",
    "Choose either time mean or random timestep\n",
    "\n",
    "- interp2z fills out of bounds with np.nan\n",
    "- each convolution extends the area with np.nan\n",
    "- NaNs are filled for u, N2, and qy"
   ]
  },
  {
   "cell_type": "code",
   "execution_count": 12,
   "id": "whole-spirit",
   "metadata": {},
   "outputs": [],
   "source": [
    "# choose either time mean or random timestep\n",
    "step = np.random.randint(0,len(grid.t))\n",
    "#choose = lambda a: a[step,:,:]\n",
    "choose = lambda a: a.mean(axis=0)\n",
    "#choose = lambda a: a"
   ]
  },
  {
   "cell_type": "code",
   "execution_count": 13,
   "id": "exciting-gospel",
   "metadata": {},
   "outputs": [
    {
     "data": {
      "image/png": "[encoded data removed]",
      "text/plain": [
       "<Figure size 576x432 with 4 Axes>"
      ]
     },
     "metadata": {
      "needs_background": "light"
     },
     "output_type": "display_data"
    }
   ],
   "source": [
    "# plot U & T on model grid\n",
    "fig, axes = plt.subplots(1,2,figsize=(8,6))\n",
    "\n",
    "Cs = axes[0].contourf(grid.y,grid.z,choose(u))\n",
    "axes[0].set_ylabel('Log-pressure z')\n",
    "axes[0].set_xlabel('Latitude [rad]')\n",
    "plt.colorbar(Cs,ax=axes[0])\n",
    "\n",
    "Cs = axes[1].contourf(grid.y,grid.z,choose(t))\n",
    "axes[1].set_ylabel('Log-pressure z')\n",
    "axes[1].set_xlabel('Latitude [rad]')\n",
    "plt.colorbar(Cs,ax=axes[1])\n",
    "\n",
    "fig.suptitle('U & T on model grid',weight='bold')\n",
    "fig.tight_layout()\n",
    "\n",
    "#plt_dir = '/s2s/wwicker/plots/wavegeometry_model/'\n",
    "#plt.savefig(plt_dir+'IFS-model-level-91L_model_grid.png',dpi=300)"
   ]
  },
  {
   "cell_type": "code",
   "execution_count": 14,
   "id": "insured-zambia",
   "metadata": {},
   "outputs": [
    {
     "data": {
      "image/png": "[encoded data removed]",
      "text/plain": [
       "<Figure size 576x432 with 4 Axes>"
      ]
     },
     "metadata": {
      "needs_background": "light"
     },
     "output_type": "display_data"
    }
   ],
   "source": [
    "# plot buoancy frequency and pvgradient\n",
    "fig, axes = plt.subplots(1,2,figsize=(8,6))\n",
    "\n",
    "Cs = axes[0].contourf(grid.y,grid.z,np.sqrt(choose(N2)))\n",
    "axes[0].set_ylabel('Log-pressure z')\n",
    "axes[0].set_xlabel('Latitude [rad]')\n",
    "plt.colorbar(Cs,ax=axes[0])\n",
    "\n",
    "levels = np.linspace(-1*10**-10,1*10**-10,11)\n",
    "Cs = axes[1].contourf(grid.y,grid.z,choose(qy),levels=levels)\n",
    "axes[1].set_ylabel('Log-pressure z')\n",
    "axes[1].set_xlabel('Latitude [rad]')\n",
    "plt.colorbar(Cs,ax=axes[1])\n",
    "\n",
    "fig.suptitle('Buoancy frequency & PV gradient',weight='bold')\n",
    "fig.tight_layout()\n",
    "\n",
    "#plt_dir = '/s2s/wwicker/plots/wavegeometry_model/'\n",
    "#plt.savefig(plt_dir+'IFS-model-level-91L_basicstate.png',dpi=300)"
   ]
  },
  {
   "cell_type": "markdown",
   "id": "nearby-guest",
   "metadata": {},
   "source": [
    "### Store basic state to outfile"
   ]
  },
  {
   "cell_type": "raw",
   "id": "surgical-bonus",
   "metadata": {},
   "source": [
    "u = xr.DataArray(u,dims=('step','lev','lat'),coords=dict(step=grid.t,lev=grid.z,lat=grid.y),name='u')\n",
    "\n",
    "qy = xr.DataArray(qy,dims=('step','lev','lat'),coords=dict(step=grid.t,lev=grid.z,lat=grid.y),name='qy')\n",
    "\n",
    "N2 = xr.DataArray(N2,dims=('step','lev','lat'),coords=dict(step=grid.t,lev=grid.z,lat=grid.y),name='N2')\n",
    "\n",
    "xr.merge([u,qy,N2]).to_netcdf(outfile,unlimited_dims='step')"
   ]
  },
  {
   "cell_type": "code",
   "execution_count": null,
   "id": "northern-series",
   "metadata": {},
   "outputs": [],
   "source": []
  }
 ],
 "metadata": {
  "kernelspec": {
   "display_name": "Python [conda env:miniconda3-pre-doc]",
   "language": "python",
   "name": "conda-env-miniconda3-pre-doc-py"
  },
  "language_info": {
   "codemirror_mode": {
    "name": "ipython",
    "version": 3
   },
   "file_extension": ".py",
   "mimetype": "text/x-python",
   "name": "python",
   "nbconvert_exporter": "python",
   "pygments_lexer": "ipython3",
   "version": "3.9.2"
  }
 },
 "nbformat": 4,
 "nbformat_minor": 5
}
