{
 "cells": [
  {
   "cell_type": "markdown",
   "id": "defensive-officer",
   "metadata": {},
   "source": [
    "# Wavegeometry model pre-process\n",
    "\n",
    "Prepare the basic state in a zonally averaged atmosphere as input for the wavegeometry model by Nili Harnik and collegues."
   ]
  },
  {
   "cell_type": "code",
   "execution_count": 13,
   "id": "likely-muscle",
   "metadata": {},
   "outputs": [],
   "source": [
    "import xarray as xr\n",
    "import numpy as np\n",
    "import matplotlib.pyplot as plt\n",
    "import pandas as pd\n",
    "import os\n",
    "from dask.distributed import Client"
   ]
  },
  {
   "cell_type": "code",
   "execution_count": 3,
   "id": "played-champion",
   "metadata": {},
   "outputs": [
    {
     "name": "stdout",
     "output_type": "stream",
     "text": [
      "/s2s/wwicker/wavegeometry_model/src\n"
     ]
    }
   ],
   "source": [
    "%cd /s2s/wwicker/wavegeometry_model/src\n",
    "from basicstate import Grid, interp2z, buoancy_frequency, pv_gradient"
   ]
  },
  {
   "cell_type": "code",
   "execution_count": 87,
   "id": "essential-minnesota",
   "metadata": {},
   "outputs": [],
   "source": [
    "# Input filenames\n",
    "u_files = ['/s2s/wwicker/data/20180125_91L/pressure_levels/u/',\n",
    "           '/s2s/wwicker/data/20180208_91L/pressure_levels/u/',\n",
    "           '/s2s/wwicker/data/20181213_91L/pressure_levels/u/',\n",
    "           '/s2s/wwicker/data/20190108_91L/pressure_levels/u/'\n",
    "           ]\n",
    "u_files = [sorted([d+f for f in os.listdir(d) if f.endswith('.grb')]) for d in u_files]\n",
    "t_files = ['/s2s/wwicker/data/20180125_91L/pressure_levels/t/',\n",
    "           '/s2s/wwicker/data/20180208_91L/pressure_levels/t/',\n",
    "           '/s2s/wwicker/data/20181213_91L/pressure_levels/t/',\n",
    "           '/s2s/wwicker/data/20190108_91L/pressure_levels/t/',\n",
    "           ]\n",
    "t_files = [sorted([d+f for f in os.listdir(d) if f.endswith('.grb')]) for d in t_files]\n",
    "namelist = '/s2s/wwicker/wavegeometry_model/input/nml-IFS-pressure-level'\n",
    "\n",
    "outfile = '/s2s/wwicker/wavegeometry_model/input/IFS-pressure-level-91L.nc'"
   ]
  },
  {
   "cell_type": "markdown",
   "id": "average-egyptian",
   "metadata": {},
   "source": [
    "### Pre-process"
   ]
  },
  {
   "cell_type": "code",
   "execution_count": 5,
   "id": "virtual-phase",
   "metadata": {},
   "outputs": [
    {
     "name": "stdout",
     "output_type": "stream",
     "text": [
      "/s2s_nobackup/wwicker\n"
     ]
    },
    {
     "data": {
      "text/html": [
       "<table style=\"border: 2px solid white;\">\n",
       "<tr>\n",
       "<td style=\"vertical-align: top; border: 0px solid white\">\n",
       "<h3 style=\"text-align: left;\">Client</h3>\n",
       "<ul style=\"text-align: left; list-style: none; margin: 0; padding: 0;\">\n",
       "  <li><b>Scheduler: </b>tcp://127.0.0.1:45461</li>\n",
       "  <li><b>Dashboard: </b><a href='/user/wwicker/proxy/8787/status' target='_blank'>/user/wwicker/proxy/8787/status</a></li>\n",
       "</ul>\n",
       "</td>\n",
       "<td style=\"vertical-align: top; border: 0px solid white\">\n",
       "<h3 style=\"text-align: left;\">Cluster</h3>\n",
       "<ul style=\"text-align: left; list-style:none; margin: 0; padding: 0;\">\n",
       "  <li><b>Workers: </b>4</li>\n",
       "  <li><b>Cores: </b>16</li>\n",
       "  <li><b>Memory: </b>119.21 GiB</li>\n",
       "</ul>\n",
       "</td>\n",
       "</tr>\n",
       "</table>"
      ],
      "text/plain": [
       "<Client: 'tcp://127.0.0.1:45461' processes=4 threads=16, memory=119.21 GiB>"
      ]
     },
     "execution_count": 5,
     "metadata": {},
     "output_type": "execute_result"
    }
   ],
   "source": [
    "%cd /s2s_nobackup/wwicker\n",
    "client = Client(n_workers=4,threads_per_worker=4,memory_limit='32G')\n",
    "client"
   ]
  },
  {
   "cell_type": "code",
   "execution_count": null,
   "id": "legislative-array",
   "metadata": {},
   "outputs": [],
   "source": []
  },
  {
   "cell_type": "code",
   "execution_count": 53,
   "id": "informative-netherlands",
   "metadata": {},
   "outputs": [],
   "source": [
    "\n",
    "\n",
    "# Derive zonal mean from netcdf files\n",
    "# Use Numpy arrays\n",
    "ds = xr.open_mfdataset(u_files,engine='cfgrib',combine='nested',concat_dim=['time','number'])\n",
    "uobs = ds['u'].sel(latitude=slice(90,0)).mean('longitude')\n",
    "uobs = uobs.mean(('time','number','step'))\n",
    "uobs = np.flip(uobs.values,-1)[np.newaxis,:,:]\n",
    "\n",
    "ds = xr.open_mfdataset(t_files,engine='cfgrib',combine='nested',concat_dim=['time','number'])\n",
    "tobs = ds['t'].sel(latitude=slice(90,0)).mean('longitude')\n",
    "tobs = tobs.mean(('time','number','step'))\n",
    "tobs = np.flip(tobs.values,-1)[np.newaxis,:,:]\n",
    "\n",
    "pressure = ds['isobaricInhPa'].values\n",
    "lat = np.flip(ds.latitude.sel(latitude=slice(90,0)).values,-1)\n",
    "\n",
    "client.close()"
   ]
  },
  {
   "cell_type": "code",
   "execution_count": null,
   "id": "tired-teach",
   "metadata": {},
   "outputs": [],
   "source": []
  },
  {
   "cell_type": "code",
   "execution_count": 80,
   "id": "continuing-elimination",
   "metadata": {},
   "outputs": [],
   "source": [
    "# read the namelist and define model grid\n",
    "grid = Grid(namelist)\n",
    "\n",
    "# interpolate u & t from pressure to z-coordinates with constant grid spacing\n",
    "# this involves smoothin$g by convolution with \n",
    "u = interp2z(grid,uobs,pressure,nfilter=2)\n",
    "t = interp2z(grid,tobs,pressure,nfilter=10)"
   ]
  },
  {
   "cell_type": "code",
   "execution_count": 81,
   "id": "noticed-translation",
   "metadata": {},
   "outputs": [],
   "source": [
    "# calculate squared buoancy frequency and pv gradient from in-situ temperature and zonal wind\n",
    "N2 = buoancy_frequency(grid,t)\n",
    "qy = pv_gradient(grid,u,N2)"
   ]
  },
  {
   "cell_type": "code",
   "execution_count": 82,
   "id": "alike-topic",
   "metadata": {},
   "outputs": [],
   "source": [
    "# Fill NaNs in u, N2, and qy\n",
    "def forward_fill(arr):\n",
    "    '''\n",
    "        found on stackoverflow\n",
    "    '''\n",
    "    df = pd.DataFrame(arr)\n",
    "    df.fillna(method='ffill', axis=0, inplace=True)\n",
    "    out = df.to_numpy()\n",
    "    return out\n",
    "\n",
    "for step in grid.t:\n",
    "    u[step,:,:] = forward_fill(u[step,:,:])\n",
    "    N2[step,:,:] = forward_fill(N2[step,:,:])\n",
    "    qy[step,:,:] = forward_fill(qy[step,:,:])"
   ]
  },
  {
   "cell_type": "markdown",
   "id": "built-trademark",
   "metadata": {},
   "source": [
    "### Plot basic state\n",
    "\n",
    "Choose either time mean or random timestep\n",
    "\n",
    "- interp2z fills out of bounds with np.nan\n",
    "- each convolution extends the area with np.nan\n",
    "- NaNs are filled for u, N2, and qy"
   ]
  },
  {
   "cell_type": "code",
   "execution_count": 83,
   "id": "changed-adelaide",
   "metadata": {},
   "outputs": [],
   "source": [
    "# choose either time mean or random timestep\n",
    "step = np.random.randint(0,len(grid.t))\n",
    "#choose = lambda a: a[step,:,:]\n",
    "choose = lambda a: a.mean(axis=0)\n",
    "#choose = lambda a: a"
   ]
  },
  {
   "cell_type": "code",
   "execution_count": 88,
   "id": "printable-mistress",
   "metadata": {},
   "outputs": [
    {
     "data": {
      "image/png": "[encoded data removed]",
      "text/plain": [
       "<Figure size 576x432 with 4 Axes>"
      ]
     },
     "metadata": {
      "needs_background": "light"
     },
     "output_type": "display_data"
    }
   ],
   "source": [
    "# plot U & T from obs\n",
    "fig, axes = plt.subplots(1,2,figsize=(8,6))\n",
    "\n",
    "Cs = axes[0].contourf(lat,pressure,choose(uobs))\n",
    "axes[0].set_ylim(axes[0].get_ylim()[::-1])\n",
    "axes[0].set_yscale('log')\n",
    "axes[0].set_ylabel('Pressure')\n",
    "axes[0].set_xlabel('Latitude')\n",
    "plt.colorbar(Cs,ax=axes[0])\n",
    "                   \n",
    "Cs = axes[1].contourf(lat,pressure,choose(tobs))\n",
    "axes[1].set_ylim(axes[1].get_ylim()[::-1])\n",
    "axes[1].set_yscale('log')\n",
    "axes[1].set_ylabel('Pressure')\n",
    "axes[1].set_xlabel('Latitude')\n",
    "plt.colorbar(Cs,ax=axes[1])\n",
    "\n",
    "fig.suptitle('U & T from obs',weight='bold')\n",
    "fig.tight_layout()\n",
    "\n",
    "plt_dir = '/s2s/wwicker/plots/wavegeometry_model/'\n",
    "plt.savefig(plt_dir+'IFS-pressure-level-91L_obs.png',dpi=300)"
   ]
  },
  {
   "cell_type": "code",
   "execution_count": 89,
   "id": "second-series",
   "metadata": {},
   "outputs": [
    {
     "data": {
      "image/png": "[encoded data removed]",
      "text/plain": [
       "<Figure size 576x432 with 4 Axes>"
      ]
     },
     "metadata": {
      "needs_background": "light"
     },
     "output_type": "display_data"
    }
   ],
   "source": [
    "# plot U & T on model grid\n",
    "fig, axes = plt.subplots(1,2,figsize=(8,6))\n",
    "\n",
    "Cs = axes[0].contourf(grid.y,grid.z,choose(u))\n",
    "axes[0].set_ylabel('Log-pressure z')\n",
    "axes[0].set_xlabel('Latitude [rad]')\n",
    "plt.colorbar(Cs,ax=axes[0])\n",
    "\n",
    "Cs = axes[1].contourf(grid.y,grid.z,choose(t))\n",
    "axes[1].set_ylabel('Log-pressure z')\n",
    "axes[1].set_xlabel('Latitude [rad]')\n",
    "plt.colorbar(Cs,ax=axes[1])\n",
    "\n",
    "fig.suptitle('U & T interpolated to model grid',weight='bold')\n",
    "fig.tight_layout()\n",
    "\n",
    "plt_dir = '/s2s/wwicker/plots/wavegeometry_model/'\n",
    "plt.savefig(plt_dir+'IFS-pressure-level-91L_model_grid.png',dpi=300)"
   ]
  },
  {
   "cell_type": "code",
   "execution_count": 90,
   "id": "convinced-carry",
   "metadata": {},
   "outputs": [
    {
     "data": {
      "image/png": "[encoded data removed]",
      "text/plain": [
       "<Figure size 576x432 with 4 Axes>"
      ]
     },
     "metadata": {
      "needs_background": "light"
     },
     "output_type": "display_data"
    }
   ],
   "source": [
    "# plot buoancy frequency and pvgradient\n",
    "fig, axes = plt.subplots(1,2,figsize=(8,6))\n",
    "\n",
    "Cs = axes[0].contourf(grid.y,grid.z,np.sqrt(choose(N2)))\n",
    "axes[0].set_ylabel('Log-pressure z')\n",
    "axes[0].set_xlabel('Latitude [rad]')\n",
    "plt.colorbar(Cs,ax=axes[0])\n",
    "\n",
    "Cs = axes[1].contourf(grid.y,grid.z,choose(qy))\n",
    "axes[1].set_ylabel('Log-pressure z')\n",
    "axes[1].set_xlabel('Latitude [rad]')\n",
    "plt.colorbar(Cs,ax=axes[1])\n",
    "\n",
    "fig.suptitle('Buoancy frequency & PV gradient',weight='bold')\n",
    "fig.tight_layout()\n",
    "\n",
    "plt_dir = '/s2s/wwicker/plots/wavegeometry_model/'\n",
    "plt.savefig(plt_dir+'IFS-pressure-level-91L_basicstate.png',dpi=300)"
   ]
  },
  {
   "cell_type": "markdown",
   "id": "contemporary-ontario",
   "metadata": {},
   "source": [
    "### Store basic state to outfile"
   ]
  },
  {
   "cell_type": "code",
   "execution_count": 91,
   "id": "distinct-corps",
   "metadata": {},
   "outputs": [],
   "source": [
    "u = xr.DataArray(u,dims=('step','lev','lat'),coords=dict(step=grid.t,lev=grid.z,lat=grid.y),name='u')\n",
    "\n",
    "qy = xr.DataArray(qy,dims=('step','lev','lat'),coords=dict(step=grid.t,lev=grid.z,lat=grid.y),name='qy')\n",
    "\n",
    "N2 = xr.DataArray(N2,dims=('step','lev','lat'),coords=dict(step=grid.t,lev=grid.z,lat=grid.y),name='N2')\n",
    "\n",
    "xr.merge([u,qy,N2]).to_netcdf(outfile,unlimited_dims='step')"
   ]
  },
  {
   "cell_type": "code",
   "execution_count": null,
   "id": "elect-yacht",
   "metadata": {},
   "outputs": [],
   "source": []
  }
 ],
 "metadata": {
  "kernelspec": {
   "display_name": "Python [conda env:miniconda3-pre-doc]",
   "language": "python",
   "name": "conda-env-miniconda3-pre-doc-py"
  },
  "language_info": {
   "codemirror_mode": {
    "name": "ipython",
    "version": 3
   },
   "file_extension": ".py",
   "mimetype": "text/x-python",
   "name": "python",
   "nbconvert_exporter": "python",
   "pygments_lexer": "ipython3",
   "version": "3.9.2"
  }
 },
 "nbformat": 4,
 "nbformat_minor": 5
}
